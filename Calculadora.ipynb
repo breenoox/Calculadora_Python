{
  "nbformat": 4,
  "nbformat_minor": 0,
  "metadata": {
    "colab": {
      "provenance": []
    },
    "kernelspec": {
      "name": "python3",
      "display_name": "Python 3"
    },
    "language_info": {
      "name": "python"
    }
  },
  "cells": [
    {
      "cell_type": "code",
      "source": [
        "class Calculadora(object):\n",
        "\n",
        "    def __init__(self, num1: float, num2: float):\n",
        "        self.num1 = num1\n",
        "        self.num2 = num2\n",
        "\n",
        "    @staticmethod\n",
        "    def adicao(num1, num2):\n",
        "        return num1 + num2\n",
        "\n",
        "    @staticmethod\n",
        "    def subtracao(num1, num2):\n",
        "        return num1 - num2\n",
        "\n",
        "    @staticmethod\n",
        "    def divisao(num1, num2):\n",
        "        if num2 == 0:\n",
        "            raise ValueError('Divisão por zero não é permitida')\n",
        "        return num1 / num2\n",
        "\n",
        "    @staticmethod\n",
        "    def multiplicacao(num):\n",
        "        for i in range(0, 11):\n",
        "            result = num * i\n",
        "            print(f'{num} x {i} = {result}')\n",
        "\n",
        "    @staticmethod\n",
        "    def par_ou_impar(num):\n",
        "        if num % 2 == 0:\n",
        "            return 'Número Par'\n",
        "        else:\n",
        "            return 'Número Ímpar'\n",
        "\n",
        "def obter_numero(mensagem):\n",
        "    while True:\n",
        "        try:\n",
        "            return float(input(mensagem))\n",
        "        except ValueError:\n",
        "            print('Entrada inválida. Digite um número válido.')"
      ],
      "metadata": {
        "id": "2S8sy501sUQ6"
      },
      "execution_count": 68,
      "outputs": []
    },
    {
      "cell_type": "code",
      "source": [
        "print('Qual operação você deseja realizar?')\n",
        "opcoes = {\n",
        "    'A': ('Adição', lambda: Calculadora.adicao(obter_numero('Digite o primeiro número: '), obter_numero('Digite o segundo número: '))),\n",
        "    'B': ('Subtração', lambda: Calculadora.subtracao(obter_numero('Digite o primeiro número: '), obter_numero('Digite o segundo número: '))),\n",
        "    'C': ('Divisão', lambda: Calculadora.divisao(obter_numero('Digite o numerador: '), obter_numero('Digite o denominador: '))),\n",
        "    'D': ('Multiplicação', lambda: Calculadora.multiplicacao(obter_numero('Digite um número entre 0 e 10: '))),\n",
        "    'E': ('Número Par ou Ímpar', lambda: print(Calculadora.par_ou_impar(obter_numero('Digite um número para verificar se é par ou ímpar: '))))\n",
        "}\n",
        "\n",
        "for opcao, (descricao, _) in opcoes.items():\n",
        "    print(f'{opcao}) {descricao}')\n",
        "\n",
        "operacao = input('Escolha a operação: ').upper()\n",
        "if operacao in opcoes:\n",
        "    opcoes[operacao][1]()\n",
        "else:\n",
        "    print('Operação inválida. Por favor, escolha uma opção válida.')"
      ],
      "metadata": {
        "colab": {
          "base_uri": "https://localhost:8080/"
        },
        "id": "4kwSpUy7Hafw",
        "outputId": "6c391ca1-1e78-4e9a-d6d6-b64b18d9e1b2"
      },
      "execution_count": 71,
      "outputs": [
        {
          "output_type": "stream",
          "name": "stdout",
          "text": [
            "Qual operação você deseja realizar?\n",
            "A) Adição\n",
            "B) Subtração\n",
            "C) Divisão\n",
            "D) Multiplicação\n",
            "E) Número Par ou Ímpar\n",
            "Escolha a operação: e\n",
            "Digite um número para verificar se é par ou ímpar: 234\n",
            "Número Par\n"
          ]
        }
      ]
    }
  ]
}